{
 "cells": [
  {
   "cell_type": "code",
   "execution_count": null,
   "id": "607af872",
   "metadata": {},
   "outputs": [],
   "source": [
    "import pandas as pd\n",
    "import numpy as np\n",
    "df = pd.read_excel(R'C:\\Users\\Promise Christopher\\Desktop\\Africa_1997-2023.xlsx')"
   ]
  },
  {
   "cell_type": "code",
   "execution_count": null,
   "id": "9843a468",
   "metadata": {},
   "outputs": [],
   "source": [
    "# Display the first few rows of the DataFrame\n",
    "#print(df.head())\n",
    "\n",
    "# Get information about the DataFrame (data types, non-null counts, etc.)\n",
    "#print(df.info())\n",
    "\n",
    "# Get summary statistics of numeric columns\n",
    "#print(df.describe())\n",
    "\n",
    "# Check for missing values\n",
    "#print(df.isnull().sum())"
   ]
  },
  {
   "cell_type": "code",
   "execution_count": null,
   "id": "c12747e1",
   "metadata": {},
   "outputs": [],
   "source": [
    "# Specify the columns you want to keep\n",
    "columns_to_keep = [\n",
    "    'EVENT_DATE', 'YEAR', 'DISORDER_TYPE', 'EVENT_TYPE', 'SUB_EVENT_TYPE',\n",
    "    'ACTOR1', 'ACTOR2', 'NOTES','COUNTRY', 'ADMIN1', 'ADMIN2', 'LOCATION',\n",
    "    'LATITUDE', 'LONGITUDE', 'NOTES', 'FATALITIES'\n",
    "]\n",
    "\n",
    "# Keep only the specified columns and remove the rest\n",
    "df = df[columns_to_keep]"
   ]
  },
  {
   "cell_type": "code",
   "execution_count": null,
   "id": "f42263ac",
   "metadata": {},
   "outputs": [],
   "source": [
    "#Get information about the modified DataFrame (data types, non-null counts, etc.)\n",
    "#print(df.info())"
   ]
  },
  {
   "cell_type": "code",
   "execution_count": null,
   "id": "607b7581",
   "metadata": {},
   "outputs": [],
   "source": [
    "#change column names \n",
    "# Create a dictionary to map the current column names to the new names\n",
    "column_name_mapping = {\n",
    "    'ACTOR1': 'ATTACKED',\n",
    "    'ACTOR2': 'ATTACKERS',\n",
    "    'NOTES': 'DESCRIPTION',\n",
    "    'ADMIN1': 'STATE',\n",
    "    'ADMIN2': 'CITY',\n",
    "}"
   ]
  },
  {
   "cell_type": "code",
   "execution_count": 40,
   "id": "ffe0ae68",
   "metadata": {},
   "outputs": [],
   "source": [
    "# Use the `rename()` method with the dictionary to change the column names\n",
    "df = df.rename(columns=column_name_mapping)"
   ]
  },
  {
   "cell_type": "code",
   "execution_count": 46,
   "id": "1d32cfb8",
   "metadata": {},
   "outputs": [],
   "source": [
    "# Save the DataFrame as an Excel file\n",
    "df.to_excel('project1.xlsx', index=False)"
   ]
  },
  {
   "cell_type": "code",
   "execution_count": null,
   "id": "56a3c16e",
   "metadata": {},
   "outputs": [],
   "source": []
  }
 ],
 "metadata": {
  "kernelspec": {
   "display_name": "Python 3 (ipykernel)",
   "language": "python",
   "name": "python3"
  },
  "language_info": {
   "codemirror_mode": {
    "name": "ipython",
    "version": 3
   },
   "file_extension": ".py",
   "mimetype": "text/x-python",
   "name": "python",
   "nbconvert_exporter": "python",
   "pygments_lexer": "ipython3",
   "version": "3.11.4"
  }
 },
 "nbformat": 4,
 "nbformat_minor": 5
}
